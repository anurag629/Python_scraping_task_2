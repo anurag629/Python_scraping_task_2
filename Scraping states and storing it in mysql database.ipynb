{
 "cells": [
  {
   "cell_type": "code",
   "execution_count": 1,
   "id": "560e6dca",
   "metadata": {},
   "outputs": [],
   "source": [
    "# importing two modules named selenium and pandas\n",
    "# pandas for converting scraped data into exel file\n",
    "# selenium for scraping data\n",
    "\n",
    "import pandas as pd\n",
    "from selenium import webdriver\n"
   ]
  },
  {
   "cell_type": "code",
   "execution_count": 2,
   "id": "f16de150",
   "metadata": {},
   "outputs": [],
   "source": [
    "# run the chrome driver .exe file and then paste link of site from where you want to scrape the data\n",
    "\n",
    "browser = webdriver.Chrome(\"chromedriver.exe\")\n",
    "browser.get(\"https://www.careerpower.in/states-and-capitals-of-india.html\")"
   ]
  },
  {
   "cell_type": "code",
   "execution_count": null,
   "id": "ac29716b",
   "metadata": {},
   "outputs": [],
   "source": []
  }
 ],
 "metadata": {
  "kernelspec": {
   "display_name": "Python 3",
   "language": "python",
   "name": "python3"
  },
  "language_info": {
   "codemirror_mode": {
    "name": "ipython",
    "version": 3
   },
   "file_extension": ".py",
   "mimetype": "text/x-python",
   "name": "python",
   "nbconvert_exporter": "python",
   "pygments_lexer": "ipython3",
   "version": "3.8.8"
  }
 },
 "nbformat": 4,
 "nbformat_minor": 5
}
