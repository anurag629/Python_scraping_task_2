{
 "cells": [
  {
   "cell_type": "code",
   "execution_count": 1,
   "id": "fdfcc457",
   "metadata": {},
   "outputs": [],
   "source": [
    "# importing two modules named selenium and pandas\n",
    "# pandas for converting scraped data into exel file\n",
    "# selenium for scraping data\n",
    "\n",
    "import pandas as pd\n",
    "from selenium import webdriver"
   ]
  },
  {
   "cell_type": "code",
   "execution_count": 5,
   "id": "03a2e4ff",
   "metadata": {},
   "outputs": [],
   "source": [
    "# run the chrome driver .exe file and then paste link of site from where you want to scrape the data\n",
    "\n",
    "browser = webdriver.Chrome(\"chromedriver.exe\")\n",
    "browser.get(\"https://in.linkedin.com/jobs/view/creative-designer-lucknow-location-at-tubelight-communications-limited-2694676322?refId=LICJJC%2FArzOsGKsFd%2Fvt5w%3D%3D&trackingId=M0ZJUBVu7q7dJAsSxSoAhQ%3D%3D&position=1&pageNum=0&trk=public_jobs_jserp-result_search-card\")"
   ]
  },
  {
   "cell_type": "code",
   "execution_count": 10,
   "id": "61036fce",
   "metadata": {},
   "outputs": [
    {
     "name": "stdout",
     "output_type": "stream",
     "text": [
      "['Tubelight Communications Limited']\n",
      "1\n",
      "['Tubelight Communications Ltd. is an ISO 9001 & ISO 27001 Certified fast growing organization in the IT & Telecom domain offering a wide range of services to the leading brands in the country and abroad across various domains like Cloud Telephony, SMS, Mobile VAS and Call Centre Solutions. Growing at a fast and steady pace with clear vision to become the most preferred solution provider for business communication India and abroad with Strong dedicated workforce.']\n",
      "1\n",
      "['Tubelight Communications Limited', 'Lucknow, Uttar Pradesh, India']\n",
      "2\n",
      "['Creative Designer ( Lucknow Location)']\n",
      "1\n"
     ]
    }
   ],
   "source": [
    "com_name = browser.find_elements_by_class_name(\"topcard__org-name-link\")\n",
    "com_descrip = browser.find_elements_by_class_name(\"show-more-less-html__markup\")\n",
    "state = browser.find_elements_by_class_name(\"topcard__flavor\")\n",
    "sub_category = browser.find_elements_by_class_name(\"top-card-layout__title\")\n",
    "\n",
    "com_name_l = []\n",
    "com_descrip_l = []\n",
    "state_l = []\n",
    "sub_category_l = []\n",
    "\n",
    "for i in com_name:\n",
    "    com_name_l.append(i.text)\n",
    "    \n",
    "print(com_name_l)\n",
    "print(len(com_name_l))\n",
    "\n",
    "\n",
    "for i in com_descrip:\n",
    "    com_descrip_l.append(i.text)\n",
    "    \n",
    "print(com_descrip_l)\n",
    "print(len(com_descrip_l))\n",
    "\n",
    "\n",
    "for i in state:\n",
    "    state_l.append(i.text)\n",
    "print(state_l)\n",
    "print(len(state_l))\n",
    "\n",
    "\n",
    "for i in sub_category:\n",
    "    sub_category_l.append(i.text)\n",
    "print(sub_category_l)\n",
    "print(len(sub_category_l))"
   ]
  },
  {
   "cell_type": "code",
   "execution_count": 12,
   "id": "4a6a71c2",
   "metadata": {},
   "outputs": [
    {
     "data": {
      "text/html": [
       "<div>\n",
       "<style scoped>\n",
       "    .dataframe tbody tr th:only-of-type {\n",
       "        vertical-align: middle;\n",
       "    }\n",
       "\n",
       "    .dataframe tbody tr th {\n",
       "        vertical-align: top;\n",
       "    }\n",
       "\n",
       "    .dataframe thead th {\n",
       "        text-align: right;\n",
       "    }\n",
       "</style>\n",
       "<table border=\"1\" class=\"dataframe\">\n",
       "  <thead>\n",
       "    <tr style=\"text-align: right;\">\n",
       "      <th></th>\n",
       "      <th>Company Name</th>\n",
       "      <th>Description</th>\n",
       "      <th>State</th>\n",
       "      <th>Subcategory</th>\n",
       "    </tr>\n",
       "  </thead>\n",
       "  <tbody>\n",
       "    <tr>\n",
       "      <th>0</th>\n",
       "      <td>Tubelight Communications Limited</td>\n",
       "      <td>Tubelight Communications Ltd. is an ISO 9001 &amp;...</td>\n",
       "      <td>Lucknow, Uttar Pradesh, India</td>\n",
       "      <td>Creative Designer ( Lucknow Location)</td>\n",
       "    </tr>\n",
       "  </tbody>\n",
       "</table>\n",
       "</div>"
      ],
      "text/plain": [
       "                       Company Name  \\\n",
       "0  Tubelight Communications Limited   \n",
       "\n",
       "                                         Description  \\\n",
       "0  Tubelight Communications Ltd. is an ISO 9001 &...   \n",
       "\n",
       "                           State                            Subcategory  \n",
       "0  Lucknow, Uttar Pradesh, India  Creative Designer ( Lucknow Location)  "
      ]
     },
     "execution_count": 12,
     "metadata": {},
     "output_type": "execute_result"
    }
   ],
   "source": [
    "#creating dataframe from existing extracted categories \n",
    "\n",
    "df = pd.DataFrame({'Company Name': com_name_l, 'Description': com_descrip_l, 'State': state_l[1], 'Subcategory': sub_category_l})\n",
    "df"
   ]
  },
  {
   "cell_type": "code",
   "execution_count": 13,
   "id": "ca30372b",
   "metadata": {},
   "outputs": [],
   "source": [
    "#importing sqlalchemy\n",
    "\n",
    "import sqlalchemy\n",
    "\n",
    "#creatiing engine to connect to database\n",
    "\n",
    "engine = sqlalchemy.create_engine('mysql+pymysql://root:@localhost:3306/scraped_data')"
   ]
  },
  {
   "cell_type": "code",
   "execution_count": 15,
   "id": "f2b0aad7",
   "metadata": {},
   "outputs": [],
   "source": [
    "#writing into mysql database from dataframe\n",
    "\n",
    "df.to_sql(\n",
    "    name='Company_details', # database table name\n",
    "    con=engine,\n",
    "    if_exists='append',\n",
    "    index=False\n",
    ")"
   ]
  },
  {
   "cell_type": "code",
   "execution_count": null,
   "id": "f7de900c",
   "metadata": {},
   "outputs": [],
   "source": []
  }
 ],
 "metadata": {
  "kernelspec": {
   "display_name": "Python 3",
   "language": "python",
   "name": "python3"
  },
  "language_info": {
   "codemirror_mode": {
    "name": "ipython",
    "version": 3
   },
   "file_extension": ".py",
   "mimetype": "text/x-python",
   "name": "python",
   "nbconvert_exporter": "python",
   "pygments_lexer": "ipython3",
   "version": "3.8.8"
  }
 },
 "nbformat": 4,
 "nbformat_minor": 5
}
